{
 "cells": [
  {
   "cell_type": "markdown",
   "metadata": {},
   "source": [
    "<B>A. Build a baseline model.</B>\n",
    "\n",
    "Import the required libraries"
   ]
  },
  {
   "cell_type": "code",
   "execution_count": 20,
   "metadata": {},
   "outputs": [],
   "source": [
    "import numpy as np\n",
    "import pandas as pd\n",
    "from sklearn.model_selection import train_test_split\n",
    "from keras.models import Sequential\n",
    "from keras.layers import Dense\n",
    "from sklearn.metrics import mean_squared_error\n",
    "from IPython.display import Markdown, display"
   ]
  },
  {
   "cell_type": "markdown",
   "metadata": {},
   "source": [
    "Build model function"
   ]
  },
  {
   "cell_type": "code",
   "execution_count": 21,
   "metadata": {},
   "outputs": [],
   "source": [
    "def build_model(num_columns):\n",
    "    model = Sequential()\n",
    "    # One hidden layer of 10 nodes, and a ReLU activation function\n",
    "    model.add(Dense(10, activation='relu', input_shape = (num_columns,)))\n",
    "    model.add(Dense(1))\n",
    "    # Use the adam optimizer and the mean squared error as the loss function.\n",
    "    model.compile(optimizer='adam', loss='mean_squared_error')\n",
    "   \n",
    "    return model"
   ]
  },
  {
   "cell_type": "markdown",
   "metadata": {},
   "source": [
    "Load the dataset from the working directory:"
   ]
  },
  {
   "cell_type": "code",
   "execution_count": 22,
   "metadata": {},
   "outputs": [],
   "source": [
    "concrete_data = pd.read_csv('https://s3-api.us-geo.objectstorage.softlayer.net/cf-courses-data/CognitiveClass/DL0101EN/labs/data/concrete_data.csv')\n",
    "predict = concrete_data.iloc[:, :-1]\n",
    "strength = concrete_data.iloc[:, -1]"
   ]
  },
  {
   "cell_type": "markdown",
   "metadata": {},
   "source": [
    "- Randomly split the data into a training and test sets by holding 30% of the data for testing.\n",
    "- Train the model on the training data using 50 epochs.\n",
    "- Evaluate the model on the test data and compute the mean squared error between the predicted concrete strength and the actual concrete strength.\n",
    "- Repeat steps 1 - 3, 50 times.\n",
    "- Report the mean and the standard deviation of the mean squared errors."
   ]
  },
  {
   "cell_type": "code",
   "execution_count": 23,
   "metadata": {},
   "outputs": [
    {
     "data": {
      "text/markdown": [
       "<B>Results:<br />Mean MSE:&nbsp;78.988311636<br />Standard Deviation of MSE:&nbsp;124.07298105</B>"
      ],
      "text/plain": [
       "<IPython.core.display.Markdown object>"
      ]
     },
     "metadata": {},
     "output_type": "display_data"
    }
   ],
   "source": [
    "# create model\n",
    "model = build_model(predict.shape[1])\n",
    "\n",
    "mse_list = []\n",
    "iterations = 50\n",
    "for _ in range(iterations): \n",
    "    \n",
    "    # split the data into a training and test sets by holding 30% of the data for testing\n",
    "    X_train, X_test, y_train, y_test = train_test_split(predict, strength, test_size=0.3, random_state=42)\n",
    "  \n",
    "    # Train the model using 50 epochs\n",
    "    model.fit(X_train, y_train, epochs=50, verbose=0)  \n",
    "    strength_predict = model.predict(X_test)\n",
    "     \n",
    "    # Compute the mean squared error between the predicted concrete strength and the actual concrete strength.\n",
    "    mse = mean_squared_error(y_test, strength_predict)\n",
    "    \n",
    "    # create a list of 50 mean squared errors (one for iteration).\n",
    "    mse_list.append(mse)\n",
    "\n",
    "# Calculate mean and standard deviation of the mean squared errors and report them.\n",
    "mean_mse = np.mean(mse_list)\n",
    "std_mse = np.std(mse_list)\n",
    "\n",
    "# Show results\n",
    "display(Markdown(\"<B>Results:<br />Mean MSE:&nbsp;%s<br />Standard Deviation of MSE:&nbsp;%s</B>\" % (mean_mse, std_mse)))"
   ]
  }
 ],
 "metadata": {
  "kernelspec": {
   "display_name": "Python 3",
   "language": "python",
   "name": "python3"
  },
  "language_info": {
   "codemirror_mode": {
    "name": "ipython",
    "version": 3
   },
   "file_extension": ".py",
   "mimetype": "text/x-python",
   "name": "python",
   "nbconvert_exporter": "python",
   "pygments_lexer": "ipython3",
   "version": "3.6.3"
  }
 },
 "nbformat": 4,
 "nbformat_minor": 5
}
